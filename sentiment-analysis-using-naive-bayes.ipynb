{
 "cells": [
  {
   "cell_type": "code",
   "execution_count": 102,
   "metadata": {
    "_cell_guid": "b1076dfc-b9ad-4769-8c92-a6c4dae69d19",
    "_uuid": "8f2839f25d086af736a60e9eeb907d3b93b6e0e5"
   },
   "outputs": [],
   "source": [
    "import numpy as np # linear algebra\n",
    "import pandas as pd # data processing, CSV file I/O (e.g. pd.read_csv)"
   ]
  },
  {
   "cell_type": "code",
   "execution_count": 103,
   "metadata": {
    "_cell_guid": "79c7e3d0-c299-4dcb-8224-4455121ee9b0",
    "_uuid": "d629ff2d2480ee46fbb7e2d37f6b5fab8052498a"
   },
   "outputs": [],
   "source": [
    "train_orig=pd.read_csv(\"train.csv\")\n",
    "test_nolabel=pd.read_csv(\"test.csv\")"
   ]
  },
  {
   "cell_type": "code",
   "execution_count": 104,
   "metadata": {},
   "outputs": [
    {
     "name": "stderr",
     "output_type": "stream",
     "text": [
      "[nltk_data] Downloading package stopwords to\n",
      "[nltk_data]     C:\\Users\\lenovo\\AppData\\Roaming\\nltk_data...\n",
      "[nltk_data]   Package stopwords is already up-to-date!\n",
      "[nltk_data] Downloading package punkt to\n",
      "[nltk_data]     C:\\Users\\lenovo\\AppData\\Roaming\\nltk_data...\n",
      "[nltk_data]   Package punkt is already up-to-date!\n",
      "<ipython-input-104-4ccb4ea9095c>:25: SettingWithCopyWarning: \n",
      "A value is trying to be set on a copy of a slice from a DataFrame\n",
      "\n",
      "See the caveats in the documentation: https://pandas.pydata.org/pandas-docs/stable/user_guide/indexing.html#returning-a-view-versus-a-copy\n",
      "  train.tweet[i] = preprocess(line)\n"
     ]
    }
   ],
   "source": [
    "import nltk\n",
    "nltk.download('stopwords')\n",
    "nltk.download('punkt')\n",
    "from nltk.corpus import stopwords\n",
    "from nltk import word_tokenize\n",
    "import string\n",
    "import re\n",
    "stop_words = set(stopwords.words('english'))\n",
    "\n",
    "train = train_orig\n",
    "\n",
    "def remove_stopwords(line):\n",
    "    word_tokens = word_tokenize(line)\n",
    "    filtered_sentence = [w for w in word_tokens if not w in stop_words] \n",
    "    return \" \".join(filtered_sentence)\n",
    "\n",
    "def preprocess(line):\n",
    "    line = line.lower()  #convert to lowercase\n",
    "    line = re.sub(r'\\d+', '', line)  #remove numbers\n",
    "    line = line.translate(line.maketrans(\"\",\"\", string.punctuation))  #remove punctuation\n",
    "#     line = line.translate(None, string.punctuation)  #remove punctuation\n",
    "    line = remove_stopwords(line)\n",
    "    return line\n",
    "for i,line in enumerate(train.tweet):\n",
    "    train.tweet[i] = preprocess(line)"
   ]
  },
  {
   "cell_type": "code",
   "execution_count": 105,
   "metadata": {},
   "outputs": [
    {
     "name": "stdout",
     "output_type": "stream",
     "text": [
      "<class 'pandas.core.frame.DataFrame'>\n",
      "Int64Index: 2242 entries, 13 to 31960\n",
      "Data columns (total 3 columns):\n",
      " #   Column  Non-Null Count  Dtype \n",
      "---  ------  --------------  ----- \n",
      " 0   id      2242 non-null   int64 \n",
      " 1   label   2242 non-null   int64 \n",
      " 2   tweet   2242 non-null   object\n",
      "dtypes: int64(2), object(1)\n",
      "memory usage: 70.1+ KB\n",
      "None\n",
      "<class 'pandas.core.frame.DataFrame'>\n",
      "Int64Index: 29720 entries, 0 to 31961\n",
      "Data columns (total 3 columns):\n",
      " #   Column  Non-Null Count  Dtype \n",
      "---  ------  --------------  ----- \n",
      " 0   id      29720 non-null  int64 \n",
      " 1   label   29720 non-null  int64 \n",
      " 2   tweet   29720 non-null  object\n",
      "dtypes: int64(2), object(1)\n",
      "memory usage: 928.8+ KB\n"
     ]
    }
   ],
   "source": [
    "from sklearn.model_selection import train_test_split\n",
    "\n",
    "X_train, X_test, y_train, y_test = train_test_split(train['tweet'], train['label'], test_size=0.5, stratify=train['label'])\n",
    "\n",
    "trainp=train[train.label==1]\n",
    "trainn=train[train.label==0]\n",
    "print(trainp.info())\n",
    "trainn.info()"
   ]
  },
  {
   "cell_type": "code",
   "execution_count": 106,
   "metadata": {},
   "outputs": [
    {
     "name": "stdout",
     "output_type": "stream",
     "text": [
      "Before\n",
      "0    29720\n",
      "1     2242\n",
      "Name: label, dtype: int64\n",
      "After\n",
      "1    29720\n",
      "0    29720\n",
      "Name: label, dtype: int64\n"
     ]
    }
   ],
   "source": [
    "# Let us balance the dataset\n",
    "train_imbalanced = train\n",
    "from sklearn.utils import resample\n",
    "df_majority = train[train.label==0]\n",
    "df_minority = train[train.label==1]\n",
    " \n",
    "# Upsample minority class\n",
    "df_minority_upsampled = resample(df_minority, \n",
    "                                 replace=True,     # sample with replacement\n",
    "                                 n_samples=len(df_majority),    # to match majority class\n",
    "                                 random_state=123) # reproducible results\n",
    " \n",
    "# Combine majority class with upsampled minority class\n",
    "df_upsampled = pd.concat([df_majority, df_minority_upsampled])\n",
    " \n",
    "# Display new class counts\n",
    "print(\"Before\")\n",
    "print(train.label.value_counts())\n",
    "print(\"After\")\n",
    "print(df_upsampled.label.value_counts())\n",
    "\n",
    "X_train, X_test, y_train, y_test = train_test_split(df_upsampled['tweet'], df_upsampled['label'], test_size=0.5, stratify=df_upsampled['label'])"
   ]
  },
  {
   "cell_type": "code",
   "execution_count": 107,
   "metadata": {},
   "outputs": [],
   "source": [
    "from sklearn.naive_bayes import MultinomialNB\n",
    "model = MultinomialNB()\n",
    "# Xtext=train.tweet\n",
    "# Xtest=test.tweet\n",
    "# y=train.label\n",
    "# test\n",
    "# ytest=test.label"
   ]
  },
  {
   "cell_type": "markdown",
   "metadata": {},
   "source": [
    "**Convert text data to numerical data**"
   ]
  },
  {
   "cell_type": "code",
   "execution_count": 108,
   "metadata": {},
   "outputs": [],
   "source": [
    "from sklearn.feature_extraction.text import CountVectorizer, TfidfVectorizer\n",
    "vect = CountVectorizer()\n",
    "tf_train=vect.fit_transform(X_train)  #train the vectorizer, build the vocablury\n",
    "tf_test=vect.transform(X_test)  #get same encodings on test data as of vocabulary built"
   ]
  },
  {
   "cell_type": "code",
   "execution_count": 109,
   "metadata": {},
   "outputs": [],
   "source": [
    "tf_test_nolabel=vect.transform(test_nolabel.tweet)"
   ]
  },
  {
   "cell_type": "code",
   "execution_count": 110,
   "metadata": {},
   "outputs": [],
   "source": [
    "# print(tf_train)\n",
    "# vect.get_feature_names()[:10] #print few features only to avoid slowing down the notebook"
   ]
  },
  {
   "cell_type": "code",
   "execution_count": 111,
   "metadata": {},
   "outputs": [
    {
     "data": {
      "text/plain": [
       "MultinomialNB()"
      ]
     },
     "execution_count": 111,
     "metadata": {},
     "output_type": "execute_result"
    }
   ],
   "source": [
    "model.fit(X=tf_train,y=y_train)"
   ]
  },
  {
   "cell_type": "code",
   "execution_count": 112,
   "metadata": {},
   "outputs": [],
   "source": [
    "expected = y_test\n",
    "predicted=model.predict(tf_test)"
   ]
  },
  {
   "cell_type": "code",
   "execution_count": 113,
   "metadata": {},
   "outputs": [
    {
     "name": "stdout",
     "output_type": "stream",
     "text": [
      "              precision    recall  f1-score   support\n",
      "\n",
      "           0       0.98      0.91      0.95     14860\n",
      "           1       0.92      0.98      0.95     14860\n",
      "\n",
      "    accuracy                           0.95     29720\n",
      "   macro avg       0.95      0.95      0.95     29720\n",
      "weighted avg       0.95      0.95      0.95     29720\n",
      "\n",
      "[[13569  1291]\n",
      " [  245 14615]]\n"
     ]
    }
   ],
   "source": [
    "from sklearn import metrics\n",
    "\n",
    "print(metrics.classification_report(expected, predicted))\n",
    "print(metrics.confusion_matrix(expected, predicted))"
   ]
  },
  {
   "cell_type": "code",
   "execution_count": 114,
   "metadata": {},
   "outputs": [
    {
     "data": {
      "text/plain": [
       "(<Figure size 432x288 with 1 Axes>,\n",
       " <matplotlib.axes._subplots.AxesSubplot at 0x222bdc88070>)"
      ]
     },
     "execution_count": 114,
     "metadata": {},
     "output_type": "execute_result"
    },
    {
     "data": {
      "image/png": "[encoded data removed]",
      "text/plain": [
       "<Figure size 432x288 with 1 Axes>"
      ]
     },
     "metadata": {
      "needs_background": "light"
     },
     "output_type": "display_data"
    }
   ],
   "source": [
    "from mlxtend.plotting import plot_confusion_matrix\n",
    "\n",
    "plot_confusion_matrix(metrics.confusion_matrix(expected, predicted))"
   ]
  },
  {
   "cell_type": "code",
   "execution_count": 115,
   "metadata": {},
   "outputs": [
    {
     "name": "stdout",
     "output_type": "stream",
     "text": [
      "      id  label                                              tweet\n",
      "13    14      1  user cnn calls michigan middle school build wa...\n",
      "14    15      1  comment australia opkillingbay seashepherd hel...\n",
      "17    18      1                                      retweet agree\n",
      "23    24      1                   user user lumpy says prove lumpy\n",
      "34    35      1  unbelievable st century wed need something lik...\n",
      "56    57      1                         user lets fight love peace\n",
      "68    69      1  ð©the white establishment cant blk folx runn...\n",
      "77    78      1  user hey white people call people white user r...\n",
      "82    83      1  altright uses amp insecurity lure men whitesup...\n",
      "111  112      1  user im interested linguistics doesnt address ...\n"
     ]
    },
    {
     "data": {
      "text/html": [
       "<div>\n",
       "<style scoped>\n",
       "    .dataframe tbody tr th:only-of-type {\n",
       "        vertical-align: middle;\n",
       "    }\n",
       "\n",
       "    .dataframe tbody tr th {\n",
       "        vertical-align: top;\n",
       "    }\n",
       "\n",
       "    .dataframe thead th {\n",
       "        text-align: right;\n",
       "    }\n",
       "</style>\n",
       "<table border=\"1\" class=\"dataframe\">\n",
       "  <thead>\n",
       "    <tr style=\"text-align: right;\">\n",
       "      <th></th>\n",
       "      <th>id</th>\n",
       "      <th>label</th>\n",
       "      <th>tweet</th>\n",
       "    </tr>\n",
       "  </thead>\n",
       "  <tbody>\n",
       "    <tr>\n",
       "      <th>0</th>\n",
       "      <td>1</td>\n",
       "      <td>0</td>\n",
       "      <td>user father dysfunctional selfish drags kids d...</td>\n",
       "    </tr>\n",
       "    <tr>\n",
       "      <th>1</th>\n",
       "      <td>2</td>\n",
       "      <td>0</td>\n",
       "      <td>user user thanks lyft credit cant use cause do...</td>\n",
       "    </tr>\n",
       "    <tr>\n",
       "      <th>2</th>\n",
       "      <td>3</td>\n",
       "      <td>0</td>\n",
       "      <td>bihday majesty</td>\n",
       "    </tr>\n",
       "    <tr>\n",
       "      <th>3</th>\n",
       "      <td>4</td>\n",
       "      <td>0</td>\n",
       "      <td>model love u take u time urð± ðððð...</td>\n",
       "    </tr>\n",
       "    <tr>\n",
       "      <th>4</th>\n",
       "      <td>5</td>\n",
       "      <td>0</td>\n",
       "      <td>factsguide society motivation</td>\n",
       "    </tr>\n",
       "    <tr>\n",
       "      <th>5</th>\n",
       "      <td>6</td>\n",
       "      <td>0</td>\n",
       "      <td>huge fan fare big talking leave chaos pay disp...</td>\n",
       "    </tr>\n",
       "    <tr>\n",
       "      <th>6</th>\n",
       "      <td>7</td>\n",
       "      <td>0</td>\n",
       "      <td>user camping tomorrow user user user user user...</td>\n",
       "    </tr>\n",
       "    <tr>\n",
       "      <th>7</th>\n",
       "      <td>8</td>\n",
       "      <td>0</td>\n",
       "      <td>next school year year examsð¯ cant think ð...</td>\n",
       "    </tr>\n",
       "    <tr>\n",
       "      <th>8</th>\n",
       "      <td>9</td>\n",
       "      <td>0</td>\n",
       "      <td>love land allin cavs champions cleveland cleve...</td>\n",
       "    </tr>\n",
       "    <tr>\n",
       "      <th>9</th>\n",
       "      <td>10</td>\n",
       "      <td>0</td>\n",
       "      <td>user user welcome im gr</td>\n",
       "    </tr>\n",
       "  </tbody>\n",
       "</table>\n",
       "</div>"
      ],
      "text/plain": [
       "   id  label                                              tweet\n",
       "0   1      0  user father dysfunctional selfish drags kids d...\n",
       "1   2      0  user user thanks lyft credit cant use cause do...\n",
       "2   3      0                                     bihday majesty\n",
       "3   4      0  model love u take u time urð± ðððð...\n",
       "4   5      0                      factsguide society motivation\n",
       "5   6      0  huge fan fare big talking leave chaos pay disp...\n",
       "6   7      0  user camping tomorrow user user user user user...\n",
       "7   8      0  next school year year examsð¯ cant think ð...\n",
       "8   9      0  love land allin cavs champions cleveland cleve...\n",
       "9  10      0                            user user welcome im gr"
      ]
     },
     "execution_count": 115,
     "metadata": {},
     "output_type": "execute_result"
    }
   ],
   "source": [
    "print(trainp.iloc[:10])\n",
    "trainn.iloc[:10]"
   ]
  },
  {
   "cell_type": "code",
   "execution_count": 116,
   "metadata": {},
   "outputs": [
    {
     "name": "stdout",
     "output_type": "stream",
     "text": [
      "seems escaped attention bashing whites isnt winning elections dem seats lost â¦ - 1\n",
      "ourlander killed angus nooooooo sweet loveable angus howwillrupecopewithouthiswingman user - 0\n",
      "live country many think first lady less vulgar black first lady trumpâ¦ - 1\n",
      "altright promote new kind genetics mt user - 1\n",
      "blacklivesmatter thats bilal called adhan kaaba always existed hamza yusuf nice ð - 1\n",
      "user love trucks skating forever noticed today ahh bent trucks ð - 0\n",
      "user song jojoba sing song videos videoclip alone shooting single fashionâ¦ - 0\n"
     ]
    }
   ],
   "source": [
    "gg=X_test.reset_index(drop=True)\n",
    "# print(gg)\n",
    "for i, p in enumerate(predicted):\n",
    "#     print(i)\n",
    "    print (gg[i] + \" - \" + str(p))\n",
    "    if i>5:\n",
    "        break #to avoid a lot of printing and slowing down the notebook"
   ]
  },
  {
   "cell_type": "code",
   "execution_count": 117,
   "metadata": {},
   "outputs": [
    {
     "name": "stdout",
     "output_type": "stream",
     "text": [
      "#studiolife #aislife #requires #passion #dedication #willpower   to find #newmaterialsâ¦  - 0\n",
      " @user #white #supremacists want everyone to see the new â  #birdsâ #movie â and hereâs why   - 1\n",
      "safe ways to heal your #acne!!    #altwaystoheal #healthy   #healing!!  - 0\n",
      "is the hp and the cursed child book up for reservations already? if yes, where? if no, when? ððð   #harrypotter #pottermore #favorite - 0\n",
      "  3rd #bihday to my amazing, hilarious #nephew eli ahmir! uncle dave loves you and missesâ¦  - 0\n",
      "choose to be   :) #momtips  - 0\n",
      "something inside me dies ð¦ð¿â¨  eyes ness #smokeyeyes #tired  #lonely #sof #grungeâ¦  - 0\n"
     ]
    }
   ],
   "source": [
    "predicted_nolabel=model.predict(tf_test_nolabel)\n",
    "for i, p in enumerate(tf_test_nolabel):\n",
    "#     print(i)\n",
    "    print (test_nolabel.tweet[i] + \" - \" + str(predicted_nolabel[i]))\n",
    "    if i>5:\n",
    "        break #to avoid a lot of printing and slowing down the notebook"
   ]
  },
  {
   "cell_type": "code",
   "execution_count": 118,
   "metadata": {},
   "outputs": [
    {
     "data": {
      "text/plain": [
       "array([1, 1, 0], dtype=int64)"
      ]
     },
     "execution_count": 118,
     "metadata": {},
     "output_type": "execute_result"
    }
   ],
   "source": [
    "test_custom=pd.DataFrame([\"Honesty is the best Policy\", \"Black Lives Matter\", \"I'm not feeling Well\"])\n",
    "tf_custom = vect.transform(test_custom[0])\n",
    "model.predict(tf_custom)"
   ]
  },
  {
   "cell_type": "code",
   "execution_count": null,
   "metadata": {},
   "outputs": [],
   "source": []
  }
 ],
 "metadata": {
  "kernelspec": {
   "display_name": "Python 3",
   "language": "python",
   "name": "python3"
  },
  "language_info": {
   "codemirror_mode": {
    "name": "ipython",
    "version": 3
   },
   "file_extension": ".py",
   "mimetype": "text/x-python",
   "name": "python",
   "nbconvert_exporter": "python",
   "pygments_lexer": "ipython3",
   "version": "3.8.3"
  }
 },
 "nbformat": 4,
 "nbformat_minor": 1
}
